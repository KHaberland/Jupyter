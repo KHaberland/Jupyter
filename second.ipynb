{
 "cells": [
  {
   "cell_type": "markdown",
   "id": "b8293eab",
   "metadata": {},
   "source": [
    "# Posledovatelnostj Fibonacci"
   ]
  },
  {
   "cell_type": "code",
   "execution_count": 10,
   "id": "8bea7911",
   "metadata": {},
   "outputs": [],
   "source": [
    "def fibonacci(sequence_length):\n",
    "    sequence=[0,1]\n",
    "    if sequence_length < 1:\n",
    "        print(\"posledovatelnostj Fibonacci ne mozet imetj dlinu menjshuju 1.\")\n",
    "        return\n",
    "    if 0 < sequence_length < 3:\n",
    "        return sequence[0:sequence_length]\n",
    "    for i in range(2, sequence_length):\n",
    "        sequence.append(sequence[i-1] + sequence[i-2])\n",
    "    return sequence"
   ]
  },
  {
   "cell_type": "code",
   "execution_count": 11,
   "id": "e487a69c",
   "metadata": {},
   "outputs": [
    {
     "data": {
      "text/plain": [
       "[0, 1, 1, 2, 3, 5, 8, 13, 21, 34, 55, 89]"
      ]
     },
     "execution_count": 11,
     "metadata": {},
     "output_type": "execute_result"
    }
   ],
   "source": [
    "fibonacci(12)"
   ]
  },
  {
   "cell_type": "code",
   "execution_count": null,
   "id": "7b6dce4a",
   "metadata": {},
   "outputs": [],
   "source": []
  }
 ],
 "metadata": {
  "kernelspec": {
   "display_name": "Python 3 (ipykernel)",
   "language": "python",
   "name": "python3"
  },
  "language_info": {
   "codemirror_mode": {
    "name": "ipython",
    "version": 3
   },
   "file_extension": ".py",
   "mimetype": "text/x-python",
   "name": "python",
   "nbconvert_exporter": "python",
   "pygments_lexer": "ipython3",
   "version": "3.9.6"
  }
 },
 "nbformat": 4,
 "nbformat_minor": 5
}
