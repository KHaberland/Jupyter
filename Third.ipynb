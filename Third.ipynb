{
  "nbformat": 4,
  "nbformat_minor": 0,
  "metadata": {
    "colab": {
      "provenance": [],
      "authorship_tag": "ABX9TyPEri4aaHAt9x/W5stQIOat",
      "include_colab_link": true
    },
    "kernelspec": {
      "name": "python3",
      "display_name": "Python 3"
    },
    "language_info": {
      "name": "python"
    }
  },
  "cells": [
    {
      "cell_type": "markdown",
      "metadata": {
        "id": "view-in-github",
        "colab_type": "text"
      },
      "source": [
        "<a href=\"https://colab.research.google.com/github/KHaberland/Jupyter/blob/develop/Third.ipynb\" target=\"_parent\"><img src=\"https://colab.research.google.com/assets/colab-badge.svg\" alt=\"Open In Colab\"/></a>"
      ]
    },
    {
      "cell_type": "markdown",
      "source": [
        "# Третий файл"
      ],
      "metadata": {
        "id": "yQw3zH7K7yzZ"
      }
    },
    {
      "cell_type": "code",
      "execution_count": 26,
      "metadata": {
        "id": "iBpHu7-t7R6d",
        "colab": {
          "base_uri": "https://localhost:8080/"
        },
        "outputId": "ea5cf3d8-225b-491f-813f-ee5710ef1fc2"
      },
      "outputs": [
        {
          "output_type": "stream",
          "name": "stdout",
          "text": [
            "Hello world!\n"
          ]
        }
      ],
      "source": [
        "print(\"Hello world!\")"
      ]
    },
    {
      "cell_type": "markdown",
      "source": [
        "$\\sqrt{3x-1} +(1+x)^2$"
      ],
      "metadata": {
        "id": "cCPxeyO__0nZ"
      }
    },
    {
      "cell_type": "code",
      "source": [
        "myoutput = \"\"\"\\       carat  cut  color  clarity  depth  table     x     y     z  price    prediction\n",
        "44751   0.51    3      2        5   61.4   58.0  5.13  5.09  3.14   1619   1593.121426\n",
        "22963   2.01    2      6        3   62.9   54.0  8.06  7.93  5.05  11011  11775.743143\n",
        "9078    1.08    2      5        2   62.1   59.0  6.57  6.53  4.07   4521   4471.409796\n",
        "26148   2.13    4      3        3   61.5   57.0  8.27  8.34  5.11  15454  15927.909100\n",
        "29451   0.33    2      1        2   61.9   56.0  4.46  4.49  2.77    702    647.523321\n",
        "23983   1.51    4      2        2   62.6   57.0  7.25  7.31  4.56  12141  11719.875234\n",
        "24181   2.38    3      6        2   62.4   58.0  8.54  8.46  5.31  12364  14629.184242\n",
        "50466   0.72    2      5        4   62.3   55.0  5.79  5.69  3.58   2265   2331.661103\n",
        "1844    0.70    4      1        4   62.2   57.0  5.63  5.68  3.52   3063   3059.857026\n",
        "9443    1.00    2      0        2   63.0   56.0  6.33  6.28  3.97   4592   5089.979605\n",
        "28622   0.31    4      3        3   61.7   55.0  4.37  4.40  2.71    433    515.613613\n",
        "26624   2.14    3      4        5   61.7   58.0  8.28  8.22  5.09  16390  16857.640565\n",
        "20466   1.09    2      1        4   61.3   56.0  6.71  6.66  4.10   8809   8537.120861\n",
        "4163    0.75    4      2        7   61.1   55.0  5.85  5.90  3.59   3551   4183.701618\n",
        "22098   1.50    2      0        3   63.0   56.0  7.30  7.25  4.58  10122   8981.706786\n",
        "19918   1.40    3      5        7   62.0   58.0  7.22  7.16  4.46   8467   7987.573030\n",
        "43544   0.60    3      0        3   61.3   61.0  5.46  5.40  3.33   1428   1423.992561\"\"\""
      ],
      "metadata": {
        "id": "UqGCOW2gWThL"
      },
      "execution_count": 12,
      "outputs": []
    },
    {
      "cell_type": "code",
      "source": [
        "lines = myoutput.splitlines()\n",
        "lines"
      ],
      "metadata": {
        "colab": {
          "base_uri": "https://localhost:8080/"
        },
        "id": "6toylH6dWxXB",
        "outputId": "c6ed8031-ce68-457f-809a-f3a18855c8ba"
      },
      "execution_count": 13,
      "outputs": [
        {
          "output_type": "execute_result",
          "data": {
            "text/plain": [
              "['\\\\       carat  cut  color  clarity  depth  table     x     y     z  price    prediction',\n",
              " '44751   0.51    3      2        5   61.4   58.0  5.13  5.09  3.14   1619   1593.121426',\n",
              " '22963   2.01    2      6        3   62.9   54.0  8.06  7.93  5.05  11011  11775.743143',\n",
              " '9078    1.08    2      5        2   62.1   59.0  6.57  6.53  4.07   4521   4471.409796',\n",
              " '26148   2.13    4      3        3   61.5   57.0  8.27  8.34  5.11  15454  15927.909100',\n",
              " '29451   0.33    2      1        2   61.9   56.0  4.46  4.49  2.77    702    647.523321',\n",
              " '23983   1.51    4      2        2   62.6   57.0  7.25  7.31  4.56  12141  11719.875234',\n",
              " '24181   2.38    3      6        2   62.4   58.0  8.54  8.46  5.31  12364  14629.184242',\n",
              " '50466   0.72    2      5        4   62.3   55.0  5.79  5.69  3.58   2265   2331.661103',\n",
              " '1844    0.70    4      1        4   62.2   57.0  5.63  5.68  3.52   3063   3059.857026',\n",
              " '9443    1.00    2      0        2   63.0   56.0  6.33  6.28  3.97   4592   5089.979605',\n",
              " '28622   0.31    4      3        3   61.7   55.0  4.37  4.40  2.71    433    515.613613',\n",
              " '26624   2.14    3      4        5   61.7   58.0  8.28  8.22  5.09  16390  16857.640565',\n",
              " '20466   1.09    2      1        4   61.3   56.0  6.71  6.66  4.10   8809   8537.120861',\n",
              " '4163    0.75    4      2        7   61.1   55.0  5.85  5.90  3.59   3551   4183.701618',\n",
              " '22098   1.50    2      0        3   63.0   56.0  7.30  7.25  4.58  10122   8981.706786',\n",
              " '19918   1.40    3      5        7   62.0   58.0  7.22  7.16  4.46   8467   7987.573030',\n",
              " '43544   0.60    3      0        3   61.3   61.0  5.46  5.40  3.33   1428   1423.992561']"
            ]
          },
          "metadata": {},
          "execution_count": 13
        }
      ]
    },
    {
      "cell_type": "code",
      "source": [
        "lines[2].split()"
      ],
      "metadata": {
        "colab": {
          "base_uri": "https://localhost:8080/"
        },
        "id": "Y_Nwy52GXUJ9",
        "outputId": "210ed71b-dfee-4331-c2ca-00276a744560"
      },
      "execution_count": 18,
      "outputs": [
        {
          "output_type": "execute_result",
          "data": {
            "text/plain": [
              "['22963',\n",
              " '2.01',\n",
              " '2',\n",
              " '6',\n",
              " '3',\n",
              " '62.9',\n",
              " '54.0',\n",
              " '8.06',\n",
              " '7.93',\n",
              " '5.05',\n",
              " '11011',\n",
              " '11775.743143']"
            ]
          },
          "metadata": {},
          "execution_count": 18
        }
      ]
    },
    {
      "cell_type": "code",
      "source": [
        "for line in lines[2:]:\n",
        "  # do somthing in each  line\n",
        "  words = line.split()\n",
        "  carat = words[1]\n",
        "  color = words [3]\n",
        "  depth = words[5]\n",
        "  print(carat, color, depth)\n"
      ],
      "metadata": {
        "colab": {
          "base_uri": "https://localhost:8080/"
        },
        "id": "h4l4UTIkYSwc",
        "outputId": "68e64be5-8950-4906-ed2b-02ea47431766"
      },
      "execution_count": 20,
      "outputs": [
        {
          "output_type": "stream",
          "name": "stdout",
          "text": [
            "2.01 6 62.9\n",
            "1.08 5 62.1\n",
            "2.13 3 61.5\n",
            "0.33 1 61.9\n",
            "1.51 2 62.6\n",
            "2.38 6 62.4\n",
            "0.72 5 62.3\n",
            "0.70 1 62.2\n",
            "1.00 0 63.0\n",
            "0.31 3 61.7\n",
            "2.14 4 61.7\n",
            "1.09 1 61.3\n",
            "0.75 2 61.1\n",
            "1.50 0 63.0\n",
            "1.40 5 62.0\n",
            "0.60 0 61.3\n"
          ]
        }
      ]
    },
    {
      "cell_type": "code",
      "source": [
        "import numpy as np \n",
        "data = []\n",
        "for line in lines[2:]:\n",
        "  # do somthing in each  line\n",
        "   words = line.split()\n",
        "   carat = float(words[1])\n",
        "   color = float(words [3])\n",
        "   depth = float(words[5])\n",
        "   data.append((carat, color, depth))\n",
        "data = np.array(data)  "
      ],
      "metadata": {
        "id": "Rlwz7gXeaUhV"
      },
      "execution_count": 23,
      "outputs": []
    },
    {
      "cell_type": "code",
      "source": [
        "import matplotlib.pyplot as plt\n",
        "plt.plot(data[:,0])\n",
        "plt.xlabel('parameters')\n",
        "plt.ylabel('diamond (quality)')\n",
        "plt.title('Reseach of diamonds')"
      ],
      "metadata": {
        "colab": {
          "base_uri": "https://localhost:8080/",
          "height": 312
        },
        "id": "-jPF4E9CbdvO",
        "outputId": "c09d2d1f-840b-44c7-c5f8-b35c90473495"
      },
      "execution_count": 25,
      "outputs": [
        {
          "output_type": "execute_result",
          "data": {
            "text/plain": [
              "Text(0.5, 1.0, 'Reseach of diamonds')"
            ]
          },
          "metadata": {},
          "execution_count": 25
        },
        {
          "output_type": "display_data",
          "data": {
            "text/plain": [
              "<Figure size 432x288 with 1 Axes>"
            ],
            "image/png": "[encoded data removed]"
          },
          "metadata": {
            "needs_background": "light"
          }
        }
      ]
    }
  ]
}