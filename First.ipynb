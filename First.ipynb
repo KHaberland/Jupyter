{
 "cells": [
  {
   "cell_type": "markdown",
   "id": "0807859f",
   "metadata": {},
   "source": [
    "# Мой первый файл jupyter notebook"
   ]
  },
  {
   "cell_type": "code",
   "execution_count": 13,
   "id": "b3d72786",
   "metadata": {},
   "outputs": [
    {
     "name": "stdout",
     "output_type": "stream",
     "text": [
      "hello world!\n"
     ]
    }
   ],
   "source": [
    "print ('hello world!')"
   ]
  },
  {
   "cell_type": "code",
   "execution_count": 14,
   "id": "2f30a009",
   "metadata": {},
   "outputs": [
    {
     "data": {
      "text/plain": [
       "4"
      ]
     },
     "execution_count": 14,
     "metadata": {},
     "output_type": "execute_result"
    }
   ],
   "source": [
    "2 + 2"
   ]
  },
  {
   "cell_type": "code",
   "execution_count": 15,
   "id": "3346ebd6",
   "metadata": {},
   "outputs": [
    {
     "name": "stdout",
     "output_type": "stream",
     "text": [
      "Переменные равны\n"
     ]
    }
   ],
   "source": [
    "a = 22\n",
    "b = 22\n",
    "\n",
    "if a == b:\n",
    "    print(\"Переменные равны\")\n",
    "else:\n",
    "    print(\"Переменные не равны\")"
   ]
  },
  {
   "cell_type": "code",
   "execution_count": 16,
   "id": "b351af0d",
   "metadata": {},
   "outputs": [],
   "source": [
    "def fibonacci(sequence_length):\n",
    "    sequence=[0,1]\n",
    "    if sequence_length < 1:\n",
    "        print(\"posledovatelnostj Fibonacci ne mozet imetj dlinu menjshuju 1.\")\n",
    "        return\n",
    "    if 0 < sequence_length < 3:\n",
    "        return sequence[0:sequence_length]\n",
    "    for i in range(2, sequence_length):\n",
    "        sequence.append(sequence[i-1] + sequence[i-2])\n",
    "    return sequence"
   ]
  },
  {
   "cell_type": "code",
   "execution_count": 18,
   "id": "c2454d54",
   "metadata": {},
   "outputs": [
    {
     "data": {
      "text/plain": [
       "[0, 1, 1, 2]"
      ]
     },
     "execution_count": 18,
     "metadata": {},
     "output_type": "execute_result"
    }
   ],
   "source": [
    "fibonacci(4)"
   ]
  },
  {
   "cell_type": "code",
   "execution_count": null,
   "id": "7f160012",
   "metadata": {},
   "outputs": [],
   "source": []
  }
 ],
 "metadata": {
  "kernelspec": {
   "display_name": "Python 3 (ipykernel)",
   "language": "python",
   "name": "python3"
  },
  "language_info": {
   "codemirror_mode": {
    "name": "ipython",
    "version": 3
   },
   "file_extension": ".py",
   "mimetype": "text/x-python",
   "name": "python",
   "nbconvert_exporter": "python",
   "pygments_lexer": "ipython3",
   "version": "3.9.6"
  }
 },
 "nbformat": 4,
 "nbformat_minor": 5
}
